{
 "cells": [
  {
   "cell_type": "code",
   "execution_count": 1,
   "id": "8a0ceea2",
   "metadata": {
    "id": "8a0ceea2"
   },
   "outputs": [],
   "source": [
    "config = {\n",
    "    'isTest':False,\n",
    "    'ordinalEncoder':['mode'],\n",
    "    'Outlier':['duration','popularity'],\n",
    "    'transformMethod':['log'\n",
    "                       #,'loglog','sqrt','inverse'\n",
    "                      ],\n",
    "    'kImputation':15,\n",
    "    'xgbModel':{'max_depth':[8],\n",
    "                'n_estimators':[200],\n",
    "                'learning_rate':[0.1],\n",
    "                'random_state':[0]\n",
    "               },\n",
    "    'consolidation':['track_name','time_signature'],\n",
    "    'correlation':[['f2','f3']],\n",
    "    'negativeCorrelation':[['f5','f2']],\n",
    "    'best_params':{'learning_rate': 0.1, 'max_depth': 8, 'n_estimators': 200}\n",
    "}\n"
   ]
  },
  {
   "cell_type": "code",
   "execution_count": 2,
   "id": "2eb7a691",
   "metadata": {
    "id": "2eb7a691"
   },
   "outputs": [],
   "source": [
    "import numpy as np\n",
    "import pandas as pd\n",
    "import os\n",
    "\n",
    "def reader(config):\n",
    "    pd.set_option('display.max_columns', None)\n",
    "    if config['isTest']:\n",
    "        data1 = pd.read_csv('data1_test.csv')\n",
    "        data2 = pd.read_csv('data2_test.csv')\n",
    "        data3 = pd.read_csv('data3_test.csv')\n",
    "    else:\n",
    "        data1 = pd.read_csv('data1.csv')\n",
    "        data2 = pd.read_csv('data2.csv')\n",
    "        data3 = pd.read_csv('data3.csv')\n",
    "    data = pd.merge(data1, data2)\n",
    "    data = pd.merge(data, data3)\n",
    "    data.rename(columns={\n",
    "        'feature_1':'f1',\n",
    "        'feature_2':'f2',\n",
    "        'feature_3':'f3',\n",
    "        'feature_4':'f4',\n",
    "        'feature_5':'f5',\n",
    "        'feature_6':'f6',\n",
    "        'feature_7':'f7',\n",
    "        'feature_8':'f8',\n",
    "        'feature_9':'f9',\n",
    "        },inplace=True)\n",
    "    data.rename(columns={\n",
    "    'Artist Name':'artist_name',\n",
    "    'Track Name':'track_name',\n",
    "    'Class':'class',\n",
    "    'Popularity':'popularity',\n",
    "},inplace=True)\n",
    "    return data"
   ]
  },
  {
   "cell_type": "code",
   "execution_count": 3,
   "id": "e2cbf857",
   "metadata": {
    "id": "e2cbf857"
   },
   "outputs": [],
   "source": [
    "from sklearn.preprocessing import OrdinalEncoder\n",
    "def ordinal(config,data):\n",
    "    data=data.copy()\n",
    "    column = config['ordinalEncoder']\n",
    "    oe = OrdinalEncoder()\n",
    "    data[column] = oe.fit_transform(data[column])\n",
    "    return data , oe"
   ]
  },
  {
   "cell_type": "code",
   "execution_count": null,
   "id": "b14d4f24",
   "metadata": {
    "id": "b14d4f24"
   },
   "outputs": [],
   "source": []
  },
  {
   "cell_type": "markdown",
   "id": "38b70018",
   "metadata": {
    "id": "38b70018"
   },
   "source": [
    "# Imputer"
   ]
  },
  {
   "cell_type": "code",
   "execution_count": 4,
   "id": "01aeed34",
   "metadata": {
    "id": "01aeed34"
   },
   "outputs": [],
   "source": [
    "from sklearn.impute import KNNImputer\n",
    "import pandas as pd\n",
    "def k_imputer (config,data):\n",
    "    df=data.copy()\n",
    "    numeric_columns = df.select_dtypes(include=['float64', 'int64']).columns\n",
    "    df_numeric = df[numeric_columns]\n",
    "    df_numeric=df_numeric.drop(columns=\"class\")\n",
    "    imputer = KNNImputer(n_neighbors=config[\"kImputation\"])\n",
    "    imputed = imputer.fit_transform(df_numeric)\n",
    "    df_imputed = pd.DataFrame(imputed,columns=df_numeric.columns)\n",
    "    df[df_imputed.columns] = df_imputed\n",
    "    return df"
   ]
  },
  {
   "cell_type": "markdown",
   "id": "54e3036f",
   "metadata": {
    "id": "54e3036f"
   },
   "source": [
    "# Feature Engineering"
   ]
  },
  {
   "cell_type": "code",
   "execution_count": 5,
   "id": "8192a4c2",
   "metadata": {
    "id": "8192a4c2"
   },
   "outputs": [],
   "source": [
    "def consol_tr(df):\n",
    "\n",
    "    df.loc[df[\"track_name\"]!='track_1','track_name']=0\n",
    "    df.loc[df[\"track_name\"]=='track_1','track_name']=1\n",
    "    df[\"track_name\"]=df[\"track_name\"].astype(int)\n",
    "    return df"
   ]
  },
  {
   "cell_type": "code",
   "execution_count": 6,
   "id": "e0aabbe0",
   "metadata": {
    "id": "e0aabbe0"
   },
   "outputs": [],
   "source": [
    "def correlation (config,data):\n",
    "    df=data.copy()\n",
    "    i= 1\n",
    "    for columns in config[\"correlation\"]:\n",
    "        df[f\"c{i}\"] =df[columns[0]]+df[columns[1]]\n",
    "        i=i+1\n",
    "    return df"
   ]
  },
  {
   "cell_type": "code",
   "execution_count": 7,
   "id": "929bd878",
   "metadata": {
    "id": "929bd878"
   },
   "outputs": [],
   "source": [
    "def negative_correlation (config,data):\n",
    "    df=data.copy()\n",
    "    i = 1\n",
    "    for columns in config[\"negativeCorrelation\"]:\n",
    "        df[f\"nc{i}\"] =df[columns[0]]/0.001+(1-df[columns[1]])\n",
    "        i=i+1\n",
    "    return df"
   ]
  },
  {
   "cell_type": "code",
   "execution_count": 8,
   "id": "fa4827db",
   "metadata": {
    "id": "fa4827db"
   },
   "outputs": [],
   "source": [
    "def consol_ts(df):\n",
    "\n",
    "    df.loc[df[\"time_signature\"]!='type 4','time_signature']=0\n",
    "    df.loc[df[\"time_signature\"]=='type 4','time_signature']=1\n",
    "    df[\"time_signature\"]=df[\"time_signature\"].astype(int)\n",
    "    return df"
   ]
  },
  {
   "cell_type": "markdown",
   "id": "fa71124b",
   "metadata": {
    "id": "fa71124b"
   },
   "source": [
    "# Imbalanced"
   ]
  },
  {
   "cell_type": "code",
   "execution_count": 9,
   "id": "e971e9f7",
   "metadata": {
    "id": "e971e9f7"
   },
   "outputs": [],
   "source": [
    "from imblearn.combine import SMOTETomek\n",
    "def balance(data):\n",
    "    df=data.copy()\n",
    "    x=df.drop(columns=\"class\")\n",
    "    y=df[\"class\"]\n",
    "    sm=SMOTETomek(random_state=0)\n",
    "    xres, yres = sm.fit_resample(x, y)\n",
    "    df=pd.concat([xres,yres],axis=1)\n",
    "    return df\n"
   ]
  },
  {
   "cell_type": "markdown",
   "id": "00d99e26",
   "metadata": {
    "id": "00d99e26"
   },
   "source": [
    "# Outlier"
   ]
  },
  {
   "cell_type": "code",
   "execution_count": 10,
   "id": "5e11dd6f",
   "metadata": {
    "id": "5e11dd6f"
   },
   "outputs": [],
   "source": [
    "def qr_outlier(config,data):\n",
    "    df=data.copy()\n",
    "    for colname in config['Outlier']:\n",
    "        i=df[colname]\n",
    "        q1=i.quantile(q=0.25)\n",
    "        q3=i.quantile(q=0.75)\n",
    "        iqr=q3-q1\n",
    "        lower=q1-1.5*iqr\n",
    "        upper=q3+1.5*iqr\n",
    "        up=i[i>upper]\n",
    "        low=i[i<lower]\n",
    "        df.loc[up.index,colname]=upper\n",
    "        df.loc[low.index,colname]=lower\n",
    "        out=pd.concat([up,low])\n",
    "    return df"
   ]
  },
  {
   "cell_type": "code",
   "execution_count": 11,
   "id": "43c6a70c",
   "metadata": {
    "id": "43c6a70c"
   },
   "outputs": [],
   "source": [
    "def class_based_qr(config,df):\n",
    "    data=df.copy()\n",
    "    for i in data[\"class\"].unique():\n",
    "        data[data[\"class\"]==i]=qr_outlier(config,data[data[\"class\"]==i])\n",
    "    return data"
   ]
  },
  {
   "cell_type": "markdown",
   "id": "6b2d3dd0",
   "metadata": {
    "id": "6b2d3dd0"
   },
   "source": [
    "# Model"
   ]
  },
  {
   "cell_type": "code",
   "execution_count": 12,
   "id": "a6da3d4a",
   "metadata": {
    "id": "a6da3d4a"
   },
   "outputs": [],
   "source": [
    "from xgboost import XGBClassifier\n",
    "from sklearn.model_selection import train_test_split\n",
    "from sklearn.preprocessing import LabelEncoder\n",
    "from sklearn.model_selection import GridSearchCV\n",
    "def xgb_model(config,data):\n",
    "\n",
    "    x=data.drop(columns=\"class\").copy()\n",
    "    y=data[\"class\"].copy()\n",
    "    la=LabelEncoder()\n",
    "    y=la.fit_transform(y)\n",
    "    model=XGBClassifier();\n",
    "    gs=GridSearchCV(model,config['xgbModel'],cv=5,refit='f1',return_train_score=True)\n",
    "    xtrain,xvalid,ytrain,yvalid=train_test_split(x,y,test_size=0.2)\n",
    "    gs.fit(x,y)\n",
    "    config[\"best_params\"]=gs.best_params_\n",
    "    return gs,la"
   ]
  },
  {
   "cell_type": "code",
   "execution_count": 13,
   "id": "eaec97c7",
   "metadata": {
    "id": "eaec97c7",
    "outputId": "e91263af-84aa-4756-d0ed-df85eb185d6e",
    "scrolled": false
   },
   "outputs": [],
   "source": [
    "data = reader(config)\n",
    "data = consol_tr(data)\n",
    "data = consol_ts(data)\n",
    "data,oe = ordinal(config,data)\n",
    "data = class_based_qr(config,data)\n",
    "data = k_imputer(config,data)\n",
    "data = correlation(config,data)\n",
    "data = negative_correlation(config,data)\n",
    "data.drop(columns=['id',\"artist_name\"],inplace=True)\n",
    "data=balance(data)"
   ]
  },
  {
   "cell_type": "code",
   "execution_count": 14,
   "id": "d5a24ab5",
   "metadata": {
    "execution": {
     "iopub.execute_input": "2023-11-11T14:48:18.835410Z",
     "iopub.status.busy": "2023-11-11T14:48:18.835026Z",
     "iopub.status.idle": "2023-11-11T14:48:18.843124Z",
     "shell.execute_reply": "2023-11-11T14:48:18.842015Z",
     "shell.execute_reply.started": "2023-11-11T14:48:18.835376Z"
    },
    "id": "d5a24ab5",
    "outputId": "6b082160-093d-4198-8cff-0679ca371e8e",
    "scrolled": true
   },
   "outputs": [
    {
     "name": "stdout",
     "output_type": "stream",
     "text": [
      "0.9331593730112513\n",
      "[0.93315937]\n",
      "[0.99933888]\n"
     ]
    }
   ],
   "source": [
    "xgb,la=xgb_model(config,data)\n",
    "print(xgb.best_score_)\n",
    "print(xgb.cv_results_[\"mean_test_score\"])\n",
    "print(xgb.cv_results_[\"mean_train_score\"])"
   ]
  },
  {
   "cell_type": "markdown",
   "id": "7696f1ea",
   "metadata": {
    "id": "7696f1ea"
   },
   "source": [
    "\n",
    "# Test"
   ]
  },
  {
   "cell_type": "code",
   "execution_count": 15,
   "id": "92abb553",
   "metadata": {
    "id": "92abb553"
   },
   "outputs": [],
   "source": [
    "config_test={\n",
    "    'isTest':True,\n",
    "    'ordinalEncoder':['mode'],\n",
    "    'oneHotEncoder':['mode'\n",
    "#         'track_name',\n",
    "                    ],\n",
    "    'qrOutlier':['duration','popularity'],\n",
    "    'zOutlier':['duration','popularity'],\n",
    "    'sOutlier':['duration','popularity'],\n",
    "    'transformMethod':['log'\n",
    "                       #,'loglog','sqrt','inverse'\n",
    "                      ],\n",
    "    'kImputation':10,\n",
    "    'sImputeColumns':['popularity','f1','f3','f6','f8','f9','key'],\n",
    "    'strategy':'median'\n",
    "                #,'median','most_frequent'\n",
    "               ,\n",
    "    'kModel':range(10,50),\n",
    "    'rfcModel':{'n_estimators':range(50,500,50)},\n",
    "#     'xgbModel':{'max_depth':range(4,15,2),\n",
    "#                 'n_estimators':range(200,1000,200),\n",
    "#                 'learning_rate':[0.005,0.01,0.05,0.1,0.5]\n",
    "#                } ,\n",
    "    'xgbModel':{'max_depth':[8],\n",
    "                'n_estimators':[200],\n",
    "                'learning_rate':[0.1],\n",
    "                'random_state':[0]\n",
    "               } ,\n",
    "    'consolidation':['track_name','time_signature'],\n",
    "    'correlation':[['f2','f3']],\n",
    "    'negativeCorrelation':[['f5','f2']]\n",
    "}\n"
   ]
  },
  {
   "cell_type": "code",
   "execution_count": 16,
   "id": "de0e99a4",
   "metadata": {
    "id": "de0e99a4",
    "outputId": "1ce67c53-1ac0-433b-fb45-d18642d00375"
   },
   "outputs": [
    {
     "data": {
      "text/html": [
       "<div>\n",
       "<style scoped>\n",
       "    .dataframe tbody tr th:only-of-type {\n",
       "        vertical-align: middle;\n",
       "    }\n",
       "\n",
       "    .dataframe tbody tr th {\n",
       "        vertical-align: top;\n",
       "    }\n",
       "\n",
       "    .dataframe thead th {\n",
       "        text-align: right;\n",
       "    }\n",
       "</style>\n",
       "<table border=\"1\" class=\"dataframe\">\n",
       "  <thead>\n",
       "    <tr style=\"text-align: right;\">\n",
       "      <th></th>\n",
       "      <th>track_name</th>\n",
       "      <th>popularity</th>\n",
       "      <th>duration</th>\n",
       "      <th>f1</th>\n",
       "      <th>f2</th>\n",
       "      <th>f3</th>\n",
       "      <th>f4</th>\n",
       "      <th>f5</th>\n",
       "      <th>f6</th>\n",
       "      <th>f7</th>\n",
       "      <th>f8</th>\n",
       "      <th>f9</th>\n",
       "      <th>key</th>\n",
       "      <th>mode</th>\n",
       "      <th>time_signature</th>\n",
       "      <th>c1</th>\n",
       "      <th>nc1</th>\n",
       "    </tr>\n",
       "  </thead>\n",
       "  <tbody>\n",
       "    <tr>\n",
       "      <th>0</th>\n",
       "      <td>1</td>\n",
       "      <td>35.0</td>\n",
       "      <td>241.080</td>\n",
       "      <td>0.714870</td>\n",
       "      <td>0.531433</td>\n",
       "      <td>0.744229</td>\n",
       "      <td>0.039064</td>\n",
       "      <td>0.157631</td>\n",
       "      <td>2.339259e-02</td>\n",
       "      <td>0.689119</td>\n",
       "      <td>0.453246</td>\n",
       "      <td>0.536206</td>\n",
       "      <td>2.0</td>\n",
       "      <td>1.0</td>\n",
       "      <td>1</td>\n",
       "      <td>1.275662</td>\n",
       "      <td>158.099089</td>\n",
       "    </tr>\n",
       "    <tr>\n",
       "      <th>1</th>\n",
       "      <td>1</td>\n",
       "      <td>13.0</td>\n",
       "      <td>277.788</td>\n",
       "      <td>0.639552</td>\n",
       "      <td>0.606524</td>\n",
       "      <td>0.796212</td>\n",
       "      <td>0.017386</td>\n",
       "      <td>0.000177</td>\n",
       "      <td>8.674697e-01</td>\n",
       "      <td>0.243117</td>\n",
       "      <td>0.497774</td>\n",
       "      <td>0.611248</td>\n",
       "      <td>5.0</td>\n",
       "      <td>0.0</td>\n",
       "      <td>1</td>\n",
       "      <td>1.402736</td>\n",
       "      <td>0.570183</td>\n",
       "    </tr>\n",
       "    <tr>\n",
       "      <th>2</th>\n",
       "      <td>1</td>\n",
       "      <td>21.0</td>\n",
       "      <td>295.673</td>\n",
       "      <td>0.553475</td>\n",
       "      <td>0.988987</td>\n",
       "      <td>0.859524</td>\n",
       "      <td>0.034342</td>\n",
       "      <td>0.000282</td>\n",
       "      <td>2.660635e-01</td>\n",
       "      <td>0.129330</td>\n",
       "      <td>0.163301</td>\n",
       "      <td>0.536443</td>\n",
       "      <td>2.0</td>\n",
       "      <td>0.0</td>\n",
       "      <td>1</td>\n",
       "      <td>1.848511</td>\n",
       "      <td>0.293142</td>\n",
       "    </tr>\n",
       "    <tr>\n",
       "      <th>3</th>\n",
       "      <td>1</td>\n",
       "      <td>76.0</td>\n",
       "      <td>208.026</td>\n",
       "      <td>0.694427</td>\n",
       "      <td>0.372240</td>\n",
       "      <td>0.770782</td>\n",
       "      <td>0.016313</td>\n",
       "      <td>0.725904</td>\n",
       "      <td>8.132528e-01</td>\n",
       "      <td>0.277659</td>\n",
       "      <td>0.551621</td>\n",
       "      <td>0.482431</td>\n",
       "      <td>7.0</td>\n",
       "      <td>0.0</td>\n",
       "      <td>1</td>\n",
       "      <td>1.143022</td>\n",
       "      <td>726.531374</td>\n",
       "    </tr>\n",
       "    <tr>\n",
       "      <th>4</th>\n",
       "      <td>1</td>\n",
       "      <td>48.0</td>\n",
       "      <td>274.480</td>\n",
       "      <td>0.671831</td>\n",
       "      <td>0.658587</td>\n",
       "      <td>0.854458</td>\n",
       "      <td>0.000215</td>\n",
       "      <td>0.027108</td>\n",
       "      <td>4.919684e-06</td>\n",
       "      <td>0.136442</td>\n",
       "      <td>0.311380</td>\n",
       "      <td>0.429131</td>\n",
       "      <td>9.0</td>\n",
       "      <td>0.0</td>\n",
       "      <td>1</td>\n",
       "      <td>1.513045</td>\n",
       "      <td>27.449847</td>\n",
       "    </tr>\n",
       "    <tr>\n",
       "      <th>...</th>\n",
       "      <td>...</td>\n",
       "      <td>...</td>\n",
       "      <td>...</td>\n",
       "      <td>...</td>\n",
       "      <td>...</td>\n",
       "      <td>...</td>\n",
       "      <td>...</td>\n",
       "      <td>...</td>\n",
       "      <td>...</td>\n",
       "      <td>...</td>\n",
       "      <td>...</td>\n",
       "      <td>...</td>\n",
       "      <td>...</td>\n",
       "      <td>...</td>\n",
       "      <td>...</td>\n",
       "      <td>...</td>\n",
       "      <td>...</td>\n",
       "    </tr>\n",
       "    <tr>\n",
       "      <th>745</th>\n",
       "      <td>1</td>\n",
       "      <td>30.0</td>\n",
       "      <td>326.640</td>\n",
       "      <td>0.473854</td>\n",
       "      <td>0.309164</td>\n",
       "      <td>0.672282</td>\n",
       "      <td>0.005151</td>\n",
       "      <td>0.719880</td>\n",
       "      <td>8.132538e-07</td>\n",
       "      <td>0.035761</td>\n",
       "      <td>0.381796</td>\n",
       "      <td>0.350061</td>\n",
       "      <td>9.0</td>\n",
       "      <td>0.0</td>\n",
       "      <td>1</td>\n",
       "      <td>0.981446</td>\n",
       "      <td>720.570354</td>\n",
       "    </tr>\n",
       "    <tr>\n",
       "      <th>746</th>\n",
       "      <td>1</td>\n",
       "      <td>50.0</td>\n",
       "      <td>188.000</td>\n",
       "      <td>0.570691</td>\n",
       "      <td>0.820783</td>\n",
       "      <td>0.873924</td>\n",
       "      <td>0.022752</td>\n",
       "      <td>0.347390</td>\n",
       "      <td>7.409646e-06</td>\n",
       "      <td>0.445291</td>\n",
       "      <td>0.792896</td>\n",
       "      <td>0.465697</td>\n",
       "      <td>2.0</td>\n",
       "      <td>0.0</td>\n",
       "      <td>1</td>\n",
       "      <td>1.694707</td>\n",
       "      <td>347.568775</td>\n",
       "    </tr>\n",
       "    <tr>\n",
       "      <th>747</th>\n",
       "      <td>1</td>\n",
       "      <td>60.0</td>\n",
       "      <td>194.800</td>\n",
       "      <td>0.149989</td>\n",
       "      <td>0.954945</td>\n",
       "      <td>0.927803</td>\n",
       "      <td>0.094226</td>\n",
       "      <td>0.001918</td>\n",
       "      <td>2.008034e-05</td>\n",
       "      <td>0.083613</td>\n",
       "      <td>0.451175</td>\n",
       "      <td>0.832142</td>\n",
       "      <td>3.0</td>\n",
       "      <td>1.0</td>\n",
       "      <td>1</td>\n",
       "      <td>1.882749</td>\n",
       "      <td>1.962725</td>\n",
       "    </tr>\n",
       "    <tr>\n",
       "      <th>748</th>\n",
       "      <td>1</td>\n",
       "      <td>45.0</td>\n",
       "      <td>157.250</td>\n",
       "      <td>0.683667</td>\n",
       "      <td>0.100912</td>\n",
       "      <td>0.564897</td>\n",
       "      <td>0.041425</td>\n",
       "      <td>0.943775</td>\n",
       "      <td>9.236947e-01</td>\n",
       "      <td>0.078635</td>\n",
       "      <td>0.019882</td>\n",
       "      <td>0.489682</td>\n",
       "      <td>4.0</td>\n",
       "      <td>0.0</td>\n",
       "      <td>0</td>\n",
       "      <td>0.665809</td>\n",
       "      <td>944.674188</td>\n",
       "    </tr>\n",
       "    <tr>\n",
       "      <th>749</th>\n",
       "      <td>1</td>\n",
       "      <td>37.0</td>\n",
       "      <td>218.720</td>\n",
       "      <td>0.394233</td>\n",
       "      <td>0.786742</td>\n",
       "      <td>0.845973</td>\n",
       "      <td>0.018888</td>\n",
       "      <td>0.000280</td>\n",
       "      <td>1.546176e-01</td>\n",
       "      <td>0.046429</td>\n",
       "      <td>0.474992</td>\n",
       "      <td>0.580244</td>\n",
       "      <td>7.0</td>\n",
       "      <td>0.0</td>\n",
       "      <td>1</td>\n",
       "      <td>1.632715</td>\n",
       "      <td>0.493379</td>\n",
       "    </tr>\n",
       "  </tbody>\n",
       "</table>\n",
       "<p>750 rows × 17 columns</p>\n",
       "</div>"
      ],
      "text/plain": [
       "     track_name  popularity  duration        f1        f2        f3        f4  \\\n",
       "0             1        35.0   241.080  0.714870  0.531433  0.744229  0.039064   \n",
       "1             1        13.0   277.788  0.639552  0.606524  0.796212  0.017386   \n",
       "2             1        21.0   295.673  0.553475  0.988987  0.859524  0.034342   \n",
       "3             1        76.0   208.026  0.694427  0.372240  0.770782  0.016313   \n",
       "4             1        48.0   274.480  0.671831  0.658587  0.854458  0.000215   \n",
       "..          ...         ...       ...       ...       ...       ...       ...   \n",
       "745           1        30.0   326.640  0.473854  0.309164  0.672282  0.005151   \n",
       "746           1        50.0   188.000  0.570691  0.820783  0.873924  0.022752   \n",
       "747           1        60.0   194.800  0.149989  0.954945  0.927803  0.094226   \n",
       "748           1        45.0   157.250  0.683667  0.100912  0.564897  0.041425   \n",
       "749           1        37.0   218.720  0.394233  0.786742  0.845973  0.018888   \n",
       "\n",
       "           f5            f6        f7        f8        f9  key  mode  \\\n",
       "0    0.157631  2.339259e-02  0.689119  0.453246  0.536206  2.0   1.0   \n",
       "1    0.000177  8.674697e-01  0.243117  0.497774  0.611248  5.0   0.0   \n",
       "2    0.000282  2.660635e-01  0.129330  0.163301  0.536443  2.0   0.0   \n",
       "3    0.725904  8.132528e-01  0.277659  0.551621  0.482431  7.0   0.0   \n",
       "4    0.027108  4.919684e-06  0.136442  0.311380  0.429131  9.0   0.0   \n",
       "..        ...           ...       ...       ...       ...  ...   ...   \n",
       "745  0.719880  8.132538e-07  0.035761  0.381796  0.350061  9.0   0.0   \n",
       "746  0.347390  7.409646e-06  0.445291  0.792896  0.465697  2.0   0.0   \n",
       "747  0.001918  2.008034e-05  0.083613  0.451175  0.832142  3.0   1.0   \n",
       "748  0.943775  9.236947e-01  0.078635  0.019882  0.489682  4.0   0.0   \n",
       "749  0.000280  1.546176e-01  0.046429  0.474992  0.580244  7.0   0.0   \n",
       "\n",
       "     time_signature        c1         nc1  \n",
       "0                 1  1.275662  158.099089  \n",
       "1                 1  1.402736    0.570183  \n",
       "2                 1  1.848511    0.293142  \n",
       "3                 1  1.143022  726.531374  \n",
       "4                 1  1.513045   27.449847  \n",
       "..              ...       ...         ...  \n",
       "745               1  0.981446  720.570354  \n",
       "746               1  1.694707  347.568775  \n",
       "747               1  1.882749    1.962725  \n",
       "748               0  0.665809  944.674188  \n",
       "749               1  1.632715    0.493379  \n",
       "\n",
       "[750 rows x 17 columns]"
      ]
     },
     "metadata": {},
     "output_type": "display_data"
    }
   ],
   "source": [
    "test=reader(config_test)\n",
    "test=consol_tr(test)\n",
    "test=consol_ts(test)\n",
    "test[config_test['ordinalEncoder']] = oe.transform(test[config_test['ordinalEncoder']])\n",
    "test = correlation(config_test,test)\n",
    "test = negative_correlation(config_test,test)\n",
    "\n",
    "test.drop(columns=['id',\"artist_name\"],inplace=True)\n",
    "display(test)"
   ]
  },
  {
   "cell_type": "code",
   "execution_count": 17,
   "id": "aac1e049",
   "metadata": {
    "id": "aac1e049",
    "outputId": "c5212a2f-2d6a-4f6f-d810-c9d2f3c63e38"
   },
   "outputs": [
    {
     "data": {
      "text/plain": [
       "array([10,  6,  9, 10, 10,  4,  9, 10, 10,  4,  6, 10,  9, 10,  4,  9,  8,\n",
       "        8, 10,  9, 10,  9, 10,  4, 10,  4,  9,  4, 10,  9, 10,  4,  4,  8,\n",
       "        6, 10,  6,  4,  8,  4,  8,  8, 10, 10,  8,  8,  8,  8, 10, 10, 10,\n",
       "        8, 10,  6,  4,  4,  9,  6,  9,  4,  9,  6,  8,  8,  4,  9,  9,  6,\n",
       "        8,  6,  9,  9,  4,  6,  4,  9,  8,  8,  4, 10,  9,  8,  4,  6,  6,\n",
       "        8,  9,  8,  4,  8, 10,  4,  9,  4, 10,  9,  8,  4,  8,  9, 10,  9,\n",
       "       10,  6,  8,  9,  6,  4,  9, 10,  6, 10,  6,  6,  9, 10, 10, 10,  8,\n",
       "        4,  4,  8,  9,  9,  8, 10,  4,  8,  6,  6,  4,  8,  6,  9,  6,  8,\n",
       "        8,  9, 10,  6,  9,  4,  8,  9,  9, 10,  4, 10,  8,  8,  8,  9,  6,\n",
       "        8,  4,  8,  4,  4,  9,  4,  4,  8,  4, 10,  9,  8, 10,  9,  6, 10,\n",
       "        9,  9,  4,  8,  6,  4,  9,  4, 10, 10,  9, 10,  9,  6,  4,  4, 10,\n",
       "       10,  9,  6,  8, 10,  9,  8,  6,  8,  4,  6,  4,  9,  8,  9,  9, 10,\n",
       "        8,  9,  4, 10, 10,  9, 10,  9,  4,  6, 10,  4, 10, 10,  9,  6,  8,\n",
       "       10, 10,  6,  6,  8, 10,  9, 10,  8,  9, 10,  9,  8,  6,  4,  8,  4,\n",
       "        4,  9, 10,  6,  4,  4,  6,  6, 10, 10,  8,  9,  4,  4,  6,  4,  9,\n",
       "        9,  9,  9, 10,  8, 10,  4, 10,  4,  6,  4,  8,  8,  4,  8,  4,  9,\n",
       "        6,  4,  6, 10,  6,  8,  6,  8,  9, 10,  9,  4,  8,  8, 10,  8,  6,\n",
       "        4, 10,  4, 10,  8,  9,  6,  8, 10,  6, 10,  9,  8,  6,  9,  9,  9,\n",
       "        8,  9,  8,  4,  9,  9,  4, 10,  9,  8,  9,  9,  9,  9,  9,  8,  9,\n",
       "        9,  8,  6,  6, 10,  4,  8, 10,  4,  9, 10,  8,  4,  8,  9,  4,  8,\n",
       "        8,  4,  8,  9,  9,  4,  9,  6,  4,  8,  9, 10,  9,  6,  4,  8,  4,\n",
       "        8,  6,  6,  6,  6,  6,  8,  9,  9, 10,  9,  8,  4,  9,  8,  8,  6,\n",
       "        8,  6,  6,  4,  8, 10,  4,  8,  8,  4, 10,  6,  9,  6, 10,  9,  6,\n",
       "        4,  9, 10,  9,  4,  6,  9,  6, 10,  8,  6,  9,  8, 10,  8, 10, 10,\n",
       "        4, 10,  6, 10, 10,  4,  6,  4, 10,  8, 10,  8,  8, 10,  6,  4, 10,\n",
       "       10,  9,  4, 10,  8,  4, 10, 10,  8,  8, 10,  8,  8,  8, 10,  9,  9,\n",
       "       10,  4, 10,  6, 10, 10,  8,  6, 10,  9,  6,  9, 10,  4,  9,  8,  9,\n",
       "        9,  6,  9, 10, 10, 10,  8,  6,  9, 10,  8,  9,  9, 10,  6,  9,  8,\n",
       "        8,  6,  8,  6, 10,  9, 10,  4, 10, 10,  6,  4,  4,  8,  6, 10,  6,\n",
       "        9,  9,  8, 10, 10,  9,  4, 10,  4,  8, 10,  6,  4,  6, 10,  4,  9,\n",
       "        6, 10, 10, 10,  9,  8,  6,  8,  6,  6,  9,  4, 10,  4,  4, 10,  8,\n",
       "        4,  8,  8,  9,  6,  8,  6, 10,  4,  8, 10,  8, 10,  9,  9,  8, 10,\n",
       "        6,  8,  9, 10,  4,  9,  9,  4, 10,  6,  9, 10,  4,  9,  8,  8,  4,\n",
       "        4, 10,  8,  4,  8,  9, 10,  9, 10,  6,  8,  9,  6,  6,  8,  9,  8,\n",
       "        9,  6, 10,  4,  8,  6,  8,  9,  8,  4,  9,  8,  8, 10, 10,  4,  9,\n",
       "        4, 10, 10,  6,  9,  8,  8,  9,  4, 10,  9, 10,  9,  6,  6,  9,  4,\n",
       "        8, 10,  6,  4,  6,  9,  6,  8, 10,  6,  9, 10,  6,  4,  6,  6,  9,\n",
       "        9,  9, 10,  8, 10, 10,  6,  4,  4,  4,  6,  6,  8, 10,  4,  4,  4,\n",
       "        4, 10,  9, 10,  6,  4, 10, 10, 10,  6,  6,  4,  6,  9,  6,  9, 10,\n",
       "        4, 10,  8,  4,  4, 10,  4,  8,  4,  4,  4,  9, 10, 10, 10,  8,  8,\n",
       "        8, 10,  6,  8,  4,  8,  4, 10,  9, 10,  4,  9,  4, 10, 10,  4,  9,\n",
       "        9,  4,  6, 10, 10,  4, 10, 10,  8,  8, 10, 10, 10,  9,  4,  4,  9,\n",
       "       10, 10,  9,  9,  6, 10, 10,  6,  4, 10,  6,  9,  8,  9,  9,  4, 10,\n",
       "       10,  6, 10,  4, 10,  4,  8, 10,  4, 10,  8,  8, 10,  9,  4, 10,  9,\n",
       "        8,  9], dtype=int64)"
      ]
     },
     "metadata": {},
     "output_type": "display_data"
    }
   ],
   "source": [
    "pred=xgb.predict(test)\n",
    "pred=la.inverse_transform(pred)\n",
    "display(pred)\n",
    "sub=test.copy()\n",
    "sub=sub.drop(columns=sub.columns)\n",
    "sub[\"Class\"]=pred\n",
    "sub.to_csv(\"lastt.csv\")"
   ]
  }
 ],
 "metadata": {
  "colab": {
   "provenance": []
  },
  "kernelspec": {
   "display_name": "Python 3 (ipykernel)",
   "language": "python",
   "name": "python3"
  },
  "language_info": {
   "codemirror_mode": {
    "name": "ipython",
    "version": 3
   },
   "file_extension": ".py",
   "mimetype": "text/x-python",
   "name": "python",
   "nbconvert_exporter": "python",
   "pygments_lexer": "ipython3",
   "version": "3.11.5"
  }
 },
 "nbformat": 4,
 "nbformat_minor": 5
}
